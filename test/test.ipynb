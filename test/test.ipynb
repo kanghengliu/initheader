{
 "cells": [
  {
   "cell_type": "markdown",
   "id": "1f172c6b",
   "metadata": {},
   "source": [
    "---\n",
    "title: \"test\"\n",
    "subtitle: \"tests\"\n",
    "author: \"Kangheng Liu\"\n",
    "date: last-modified\n",
    "date-format: long\n",
    "format:\n",
    "    html:\n",
    "        theme:\n",
    "            dark: \n",
    "                - cosmo\n",
    "                - style/html-sta313.scss\n",
    "                - style/html-dark.scss\n",
    "                - style/my-adjustments.scss\n",
    "            light: \n",
    "                - cosmo\n",
    "                - style/html-sta313.scss\n",
    "        toc: true\n",
    "        code-copy: true\n",
    "        code-overflow: wrap\n",
    "        mainfont: \"Atkinson Hyperlegible\"\n",
    "        code-annotations: hover\n",
    "        self-contained: true\n",
    "execute:\n",
    "    echo: true\n",
    "    warning: false\n",
    "    message: false\n",
    "    freeze: auto\n",
    "filters:\n",
    "    - openlinksinnewpage\n",
    "lightbox: auto\n",
    "---"
   ]
  },
  {
   "cell_type": "markdown",
   "metadata": {},
   "source": [
    "This is my test document for my script."
   ]
  },
  {
   "cell_type": "code",
   "execution_count": 2,
   "metadata": {},
   "outputs": [
    {
     "name": "stdout",
     "output_type": "stream",
     "text": [
      "hello\n"
     ]
    }
   ],
   "source": [
    "print(\"hello\")"
   ]
  },
  {
   "cell_type": "code",
   "execution_count": null,
   "metadata": {},
   "outputs": [],
   "source": []
  }
 ],
 "metadata": {
  "kernelspec": {
   "display_name": "gu",
   "language": "python",
   "name": "python3"
  },
  "language_info": {
   "codemirror_mode": {
    "name": "ipython",
    "version": 3
   },
   "file_extension": ".py",
   "mimetype": "text/x-python",
   "name": "python",
   "nbconvert_exporter": "python",
   "pygments_lexer": "ipython3",
   "version": "3.11.6"
  }
 },
 "nbformat": 4,
 "nbformat_minor": 2
}
